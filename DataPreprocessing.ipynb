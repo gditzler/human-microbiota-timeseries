{
 "metadata": {
  "name": "",
  "signature": "sha256:323d987522aab7fa068ed1b8fa80f027949b3022c2a27678b112dc05c8c65738"
 },
 "nbformat": 3,
 "nbformat_minor": 0,
 "worksheets": [
  {
   "cells": [
    {
     "cell_type": "code",
     "collapsed": false,
     "input": [
      "import csv\n",
      "import json"
     ],
     "language": "python",
     "metadata": {},
     "outputs": [],
     "prompt_number": 68
    },
    {
     "cell_type": "code",
     "collapsed": false,
     "input": [
      "#clean up\n",
      "!rm -Rf tmp/\n",
      "!rm data/*.biom"
     ],
     "language": "python",
     "metadata": {},
     "outputs": []
    },
    {
     "cell_type": "code",
     "collapsed": false,
     "input": [
      "# convert the biom file\n",
      "!biom convert -i data/otu.table.ggref -o data/david.biom"
     ],
     "language": "python",
     "metadata": {},
     "outputs": [
      {
       "output_type": "stream",
       "stream": "stdout",
       "text": [
        "/opt/local/Library/Frameworks/Python.framework/Versions/2.7/lib/python2.7/site-packages/biom_format-1.3.1_dev-py2.7-macosx-10.9-x86_64.egg/biom/util.py:27: UserWarning: h5py is not available\r\n",
        "  warn(\"h5py is not available\")\r\n"
       ]
      }
     ],
     "prompt_number": 64
    },
    {
     "cell_type": "code",
     "collapsed": false,
     "input": [
      "!cat data/david14_otus_metadata_saliva_A.txt | awk -F '\\t' '{print $1}' | tail -12"
     ],
     "language": "python",
     "metadata": {},
     "outputs": [
      {
       "output_type": "stream",
       "stream": "stdout",
       "text": [
        "collection-day\r\n",
        "NUTRITION_CALCIUM_PRECEDING_DAY\r\n",
        "NUTRITION_CALORIE_PRECEDING_DAY\r\n",
        "NUTRITION_CARB_PRECEDING_DAY\r\n",
        "NUTRITION_CHOLESTEROL_PRECEDING_DAY\r\n",
        "NUTRITION_FAT_PRECEDING_DAY\r\n",
        "NUTRITION_FIBER_PRECEDING_DAY\r\n",
        "NUTRITION_PROTEIN_PRECEDING_DAY\r\n",
        "NUTRITION_SATFAT_PRECEDING_DAY\r\n",
        "NUTRITION_SODIUM_PRECEDING_DAY\r\n",
        "NUTRITION_SUGAR_PRECEDING_DAY\r\n",
        "AGE\r\n"
       ]
      }
     ],
     "prompt_number": 62
    },
    {
     "cell_type": "code",
     "collapsed": false,
     "input": [
      "!cat data/david14_otus_metadata_stool_A.txt | tail -12 > tmp/tail1.txt\n",
      "!cat data/david14_otus_metadata_stool_A.txt | head -1 | sed -e \"s/SAMPLE\\_//g\" > tmp/head2.txt\n",
      "!cat tmp/head2.txt tmp/tail1.txt > tmp/david14_otus_metadata_stool_A_metadata.txt\n",
      "!rm tmp/tail1.txt tmp/head2.txt"
     ],
     "language": "python",
     "metadata": {},
     "outputs": [
      {
       "output_type": "stream",
       "stream": "stdout",
       "text": [
        "cat: stdout: Broken pipe\r\n"
       ]
      }
     ],
     "prompt_number": 8
    },
    {
     "cell_type": "code",
     "collapsed": false,
     "input": [
      "!cat data/david14_otus_metadata_stool_B.txt | tail -12 > tmp/tail1.txt\n",
      "!cat data/david14_otus_metadata_stool_B.txt | head -1 | sed -e \"s/SAMPLE\\_//g\" > tmp/head2.txt\n",
      "!cat tmp/head2.txt tmp/tail1.txt > tmp/david14_otus_metadata_stool_B_metadata.txt\n",
      "!rm tmp/tail1.txt tmp/head2.txt"
     ],
     "language": "python",
     "metadata": {},
     "outputs": [
      {
       "output_type": "stream",
       "stream": "stdout",
       "text": [
        "cat: stdout: Broken pipe\r\n"
       ]
      }
     ],
     "prompt_number": 9
    },
    {
     "cell_type": "code",
     "collapsed": false,
     "input": [
      "!cat data/david14_otus_metadata_saliva_A.txt | tail -12 > tmp/tail1.txt\n",
      "!cat data/david14_otus_metadata_saliva_A.txt | head -1 | sed -e \"s/SAMPLE\\_//g\" > tmp/head2.txt\n",
      "!cat tmp/head2.txt tmp/tail1.txt > tmp/david14_otus_metadata_saliva_A_metadata.txt\n",
      "!rm tmp/tail1.txt tmp/head2.txt"
     ],
     "language": "python",
     "metadata": {},
     "outputs": [
      {
       "output_type": "stream",
       "stream": "stdout",
       "text": [
        "cat: stdout: Broken pipe\r\n"
       ]
      }
     ],
     "prompt_number": 10
    },
    {
     "cell_type": "code",
     "collapsed": false,
     "input": [
      "def csv_reader(fname):\n",
      "    contents = []\n",
      "    with open(fname, 'rb') as csvfile: \n",
      "        spamreader = csv.reader(csvfile, delimiter='\\t')\n",
      "        for row in spamreader:\n",
      "            contents.append(row)\n",
      "    return contents\n",
      "    "
     ],
     "language": "python",
     "metadata": {},
     "outputs": [],
     "prompt_number": 11
    },
    {
     "cell_type": "code",
     "collapsed": false,
     "input": [
      "saa = csv_reader(\"tmp/david14_otus_metadata_saliva_A_metadata.txt\")\n",
      "saa = tr(saa)\n",
      "saa[0][0] = \"#SampleID\"\n",
      "write_tsv(\"data/david-saliva-a.txt\", saa)\n",
      "\n",
      "saa = csv_reader(\"tmp/david14_otus_metadata_stool_A_metadata.txt\")\n",
      "saa = tr(saa)\n",
      "saa[0][0] = \"#SampleID\"\n",
      "write_tsv(\"data/david-stool-a.txt\", saa)\n",
      "\n",
      "\n",
      "saa = csv_reader(\"tmp/david14_otus_metadata_stool_B_metadata.txt\")\n",
      "saa = tr(saa)\n",
      "saa[0][0] = \"#SampleID\"\n",
      "write_tsv(\"data/david-stool-b.txt\", saa)\n"
     ],
     "language": "python",
     "metadata": {},
     "outputs": [],
     "prompt_number": 52
    },
    {
     "cell_type": "code",
     "collapsed": false,
     "input": [
      "def tr(obj):\n",
      "    n_meta = len(saa)\n",
      "    n_samp = len(saa[0])\n",
      "    \n",
      "    meta = []\n",
      "    for i in range(n_samp):\n",
      "        tmp = []\n",
      "        for i in range(n_meta):\n",
      "            tmp.append([])\n",
      "        meta.append(tmp)\n",
      "        \n",
      "    for n,val1 in enumerate(saa):\n",
      "        for m,val2 in enumerate(val1):\n",
      "            meta[m][n] = val2\n",
      "    \n",
      "    return meta"
     ],
     "language": "python",
     "metadata": {},
     "outputs": [],
     "prompt_number": 46
    },
    {
     "cell_type": "code",
     "collapsed": false,
     "input": [
      "def write_tsv(fname, obj):\n",
      "    f = open(fname, \"w\")\n",
      "    \n",
      "    for row in obj:\n",
      "        rstr = \"\"\n",
      "        for val in row[:-1]:\n",
      "            rstr += (val + \"\\t\")\n",
      "        f.write(rstr + \"\\n\")\n",
      "    f.close()\n",
      "    return None"
     ],
     "language": "python",
     "metadata": {},
     "outputs": [],
     "prompt_number": 50
    },
    {
     "cell_type": "code",
     "collapsed": false,
     "input": [
      "!biom add-metadata -i data/david.biom -o tmp/david1.biom -m data/david-saliva-a.txt\n",
      "!biom add-metadata -i tmp/david1.biom -o tmp/david2.biom -m data/david-stool-a.txt\n",
      "!biom add-metadata -i tmp/david2.biom -o data/david-complete.biom -m data/david-stool-b.txt"
     ],
     "language": "python",
     "metadata": {},
     "outputs": [
      {
       "output_type": "stream",
       "stream": "stdout",
       "text": [
        "/opt/local/Library/Frameworks/Python.framework/Versions/2.7/lib/python2.7/site-packages/biom_format-1.3.1_dev-py2.7-macosx-10.9-x86_64.egg/biom/util.py:27: UserWarning: h5py is not available\r\n",
        "  warn(\"h5py is not available\")\r\n"
       ]
      },
      {
       "output_type": "stream",
       "stream": "stdout",
       "text": [
        "/opt/local/Library/Frameworks/Python.framework/Versions/2.7/lib/python2.7/site-packages/biom_format-1.3.1_dev-py2.7-macosx-10.9-x86_64.egg/biom/util.py:27: UserWarning: h5py is not available\r\n",
        "  warn(\"h5py is not available\")\r\n"
       ]
      },
      {
       "output_type": "stream",
       "stream": "stdout",
       "text": [
        "/opt/local/Library/Frameworks/Python.framework/Versions/2.7/lib/python2.7/site-packages/biom_format-1.3.1_dev-py2.7-macosx-10.9-x86_64.egg/biom/util.py:27: UserWarning: h5py is not available\r\n",
        "  warn(\"h5py is not available\")\r\n"
       ]
      }
     ],
     "prompt_number": 66
    },
    {
     "cell_type": "code",
     "collapsed": false,
     "input": [
      "o = json.loads(open(\"data/david-complete.biom\", \"rb\").read())\n",
      "print o[\"columns\"][0]"
     ],
     "language": "python",
     "metadata": {},
     "outputs": [
      {
       "output_type": "stream",
       "stream": "stdout",
       "text": [
        "{u'id': u'Saliva1', u'metadata': {u'NUTRITION_CALCIUM_PRECEDING_DAY': u'694.3071057', u'collection-day': u'26.0', u'NUTRITION_SATFAT_PRECEDING_DAY': u'29.98332885', u'NUTRITION_CHOLESTEROL_PRECEDING_DAY': u'421.6049564', u'NUTRITION_FAT_PRECEDING_DAY': u'102.6083732', u'NUTRITION_FIBER_PRECEDING_DAY': u'28.86213308', u'NUTRITION_CALORIE_PRECEDING_DAY': u'2848.700012', u'NUTRITION_PROTEIN_PRECEDING_DAY': u'122.9241297', u'NUTRITION_SUGAR_PRECEDING_DAY': u'162.1953886', u'NUTRITION_CARB_PRECEDING_DAY': u'327.0262755', u'NUTRITION_SODIUM_PRECEDING_DAY': u'4228.447315'}}\n"
       ]
      }
     ],
     "prompt_number": 71
    },
    {
     "cell_type": "code",
     "collapsed": false,
     "input": [
      "a =NaN"
     ],
     "language": "python",
     "metadata": {},
     "outputs": [],
     "prompt_number": 72
    },
    {
     "cell_type": "code",
     "collapsed": false,
     "input": [
      "print a"
     ],
     "language": "python",
     "metadata": {},
     "outputs": [
      {
       "output_type": "stream",
       "stream": "stdout",
       "text": [
        "nan\n"
       ]
      }
     ],
     "prompt_number": 73
    },
    {
     "cell_type": "code",
     "collapsed": false,
     "input": [
      "# run with qiime\n",
      "!merge_mapping_files.py -m data/david-saliva-a.txt,data/david-stool-a.txt,data/david-stool-b.txt -o data/david.txt"
     ],
     "language": "python",
     "metadata": {},
     "outputs": []
    }
   ],
   "metadata": {}
  }
 ]
}