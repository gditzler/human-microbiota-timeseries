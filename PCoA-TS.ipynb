{
 "metadata": {
  "name": "",
  "signature": "sha256:ed419d6f0e1057cbd3d8792169344f1f8737257e973920d9e4f9ef83b0ad1949"
 },
 "nbformat": 3,
 "nbformat_minor": 0,
 "worksheets": [
  {
   "cells": [
    {
     "cell_type": "code",
     "collapsed": false,
     "input": [
      "import json \n",
      "import numpy as np\n",
      "from sklearn import manifold "
     ],
     "language": "python",
     "metadata": {},
     "outputs": [],
     "prompt_number": 17
    },
    {
     "cell_type": "code",
     "collapsed": false,
     "input": [
      "def read_biom(biom_fp):\n",
      "    obj = json.loads(open(biom_fp, \"rb\").read())\n",
      "    n_otu, n_samp = obj[\"shape\"]\n",
      "    \n",
      "    otu_ids = []\n",
      "    otu_name = []\n",
      "    for val in obj[\"rows\"]:\n",
      "        otu_name.append(val[\"metadata\"][\"Consensus Lineage\"])\n",
      "        otu_ids.append(val[\"id\"])\n",
      "    \n",
      "    metadata = {}\n",
      "    for val in obj[\"columns\"]:\n",
      "        tmp = val[\"metadata\"]\n",
      "        if val[\"id\"][:3] == \"Sal\":\n",
      "            tmp[\"SITE\"] = \"Saliva\"\n",
      "        else:\n",
      "            tmp[\"SITE\"] = \"Stool\"\n",
      "        metadata[val[\"id\"]] = tmp\n",
      "    \n",
      "    data = np.zeros((n_otu, n_samp))\n",
      "    for val in obj[\"data\"]:\n",
      "        data[val[0], val[1]] = val[2]\n",
      "        \n",
      "    return data, metadata, otu_ids, otu_name "
     ],
     "language": "python",
     "metadata": {},
     "outputs": [],
     "prompt_number": 2
    },
    {
     "cell_type": "code",
     "collapsed": false,
     "input": [
      "def hellinger(data):\n",
      "    n_otu, n_samp = data.shape\n",
      "    d = zeros((n_samp,n_samp))\n",
      "    for n1 in range(n_samp):\n",
      "        for n2 in range(n1, n_samp):\n",
      "            dist = np.linalg.norm(np.sqrt(data[:,n1]/np.sum(data[:,n1])) - np.sqrt(data[:,n2]/np.sum(data[:,n1])), 2)\n",
      "            d[n1,n2] = dist/np.sqrt(2)\n",
      "            d[n2,n1] = dist/np.sqrt(2)\n",
      "    return d"
     ],
     "language": "python",
     "metadata": {},
     "outputs": [],
     "prompt_number": 15
    },
    {
     "cell_type": "code",
     "collapsed": false,
     "input": [
      "data, metadata, otu_ids, otu_name = read_biom(\"data/david-complete.biom\")\n",
      "dists = hellinger(data)"
     ],
     "language": "python",
     "metadata": {},
     "outputs": [],
     "prompt_number": 16
    },
    {
     "cell_type": "code",
     "collapsed": false,
     "input": [
      "print dists[1,2],dists[2,1]\n",
      "print dists.shape\n"
     ],
     "language": "python",
     "metadata": {},
     "outputs": [
      {
       "output_type": "stream",
       "stream": "stdout",
       "text": [
        "0.269742466237 0.269742466237\n",
        "(844, 844)\n"
       ]
      }
     ],
     "prompt_number": 26
    },
    {
     "cell_type": "code",
     "collapsed": false,
     "input": [
      "mds = manifold.MDS(n_components=3, metric=True, max_iter=3000, eps=1e-9, random_state=seed, dissimilarity=\"precomputed\", n_jobs=1)\n",
      "pos = mds.fit(dists)  "
     ],
     "language": "python",
     "metadata": {},
     "outputs": [],
     "prompt_number": 24
    },
    {
     "cell_type": "code",
     "collapsed": false,
     "input": [],
     "language": "python",
     "metadata": {},
     "outputs": []
    }
   ],
   "metadata": {}
  }
 ]
}